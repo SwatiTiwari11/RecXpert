{
 "cells": [
  {
   "cell_type": "code",
   "execution_count": 1,
   "id": "1cdf6f35",
   "metadata": {},
   "outputs": [],
   "source": [
    "import heapq\n",
    "from collections import defaultdict, deque\n",
    "from sklearn.metrics.pairwise import cosine_similarity\n",
    "import numpy as np"
   ]
  },
  {
   "cell_type": "code",
   "execution_count": 10,
   "id": "404ca653",
   "metadata": {},
   "outputs": [],
   "source": [
    "\n",
    "class ECommerceRecommendation:\n",
    "    def __init__(self):\n",
    "        self.user_product_graph = defaultdict(set)  # Graph: user -> {products}\n",
    "        self.product_popularity = defaultdict(int)  # HashMap: product -> purchase count\n",
    "        self.user_vector = defaultdict(lambda: np.zeros(100))  # User preference vectors\n",
    "\n",
    "    def add_purchase(self, user, product):\n",
    "        self.user_product_graph[user].add(product)\n",
    "        self.product_popularity[product] += 1\n",
    "        self.update_user_vector(user, product)\n",
    "\n",
    "    def update_user_vector(self, user, product):\n",
    "        \"\"\" Simulates updating user preference vectors (for ML similarity). \"\"\"\n",
    "        index = hash(product) % 100\n",
    "        self.user_vector[user][index] += 1\n",
    "\n",
    "    def recommend_products(self, user):\n",
    "        \"\"\" Recommend products based on similar users (Graph BFS). \"\"\"\n",
    "        recommended = set()\n",
    "        queue = deque([user])\n",
    "        visited = set()\n",
    "        \n",
    "        while queue:\n",
    "            current_user = queue.popleft()\n",
    "            visited.add(current_user)\n",
    "            \n",
    "            for other_user in self.user_product_graph:\n",
    "                if other_user != current_user and not other_user in visited:\n",
    "                    shared_products = self.user_product_graph[current_user] & self.user_product_graph[other_user]\n",
    "                    if shared_products:\n",
    "                        recommended.update(self.user_product_graph[other_user] - shared_products)\n",
    "                        queue.append(other_user)\n",
    "        \n",
    "        return list(recommended) if recommended else [\"No recommendations\"]\n",
    "\n",
    "    def trending_products(self, top_n):\n",
    "        \"\"\" Get top trending products using Max Heap. \"\"\"\n",
    "        return heapq.nlargest(top_n, self.product_popularity, key=self.product_popularity.get)\n",
    "\n",
    "    def ml_recommend_products(self, user):\n",
    "        \"\"\" Recommend products using ML-based user similarity (Cosine Similarity). \"\"\"\n",
    "        user_list = list(self.user_vector.keys())\n",
    "        user_matrix = np.array([self.user_vector[u] for u in user_list])\n",
    "        \n",
    "        if user not in self.user_vector:\n",
    "            return [\"No recommendations\"]\n",
    "        \n",
    "        similarities = cosine_similarity([self.user_vector[user]], user_matrix)[0]\n",
    "        similar_users = [user_list[i] for i in np.argsort(similarities)[::-1] if user_list[i] != user]\n",
    "        \n",
    "        recommended = set()\n",
    "        for sim_user in similar_users:\n",
    "            recommended.update(self.user_product_graph[sim_user] - self.user_product_graph[user])\n",
    "            if len(recommended) >= 5:\n",
    "                break\n",
    "        \n",
    "        return list(recommended) if recommended else [\"No recommendations\"]\n"
   ]
  },
  {
   "cell_type": "code",
   "execution_count": 11,
   "id": "daae7a62",
   "metadata": {},
   "outputs": [
    {
     "name": "stdout",
     "output_type": "stream",
     "text": [
      "Graph-based Recommendations for User1: ['Keyboard']\n",
      "Top Trending Products: ['Laptop', 'Mouse']\n",
      "ML-based Recommendations for User1: ['Keyboard', 'Earphones', 'Phone']\n"
     ]
    }
   ],
   "source": [
    "recommendation_system = ECommerceRecommendation()\n",
    "recommendation_system.add_purchase(\"User1\", \"Laptop\")\n",
    "recommendation_system.add_purchase(\"User1\", \"Mouse\")\n",
    "recommendation_system.add_purchase(\"User2\", \"Laptop\")\n",
    "recommendation_system.add_purchase(\"User2\", \"Keyboard\")\n",
    "recommendation_system.add_purchase(\"User3\", \"Phone\")\n",
    "recommendation_system.add_purchase(\"User3\", \"Earphones\")\n",
    "\n",
    "print(\"Graph-based Recommendations for User1:\", recommendation_system.recommend_products(\"User1\"))\n",
    "print(\"Top Trending Products:\", recommendation_system.trending_products(2))\n",
    "print(\"ML-based Recommendations for User1:\", recommendation_system.ml_recommend_products(\"User1\"))\n"
   ]
  },
  {
   "cell_type": "code",
   "execution_count": null,
   "id": "930be391",
   "metadata": {},
   "outputs": [],
   "source": []
  }
 ],
 "metadata": {
  "kernelspec": {
   "display_name": "Python 3 (ipykernel)",
   "language": "python",
   "name": "python3"
  },
  "language_info": {
   "codemirror_mode": {
    "name": "ipython",
    "version": 3
   },
   "file_extension": ".py",
   "mimetype": "text/x-python",
   "name": "python",
   "nbconvert_exporter": "python",
   "pygments_lexer": "ipython3",
   "version": "3.9.13"
  }
 },
 "nbformat": 4,
 "nbformat_minor": 5
}
